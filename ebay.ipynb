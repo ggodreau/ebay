{
 "cells": [
  {
   "cell_type": "markdown",
   "metadata": {},
   "source": [
    "## Simple example of pulling a list of prices for Hairy Potter from the ebay keywords API"
   ]
  },
  {
   "cell_type": "code",
   "execution_count": 1,
   "metadata": {},
   "outputs": [],
   "source": [
    "import requests\n",
    "from pprint import pprint\n",
    "import json"
   ]
  },
  {
   "cell_type": "code",
   "execution_count": 2,
   "metadata": {},
   "outputs": [],
   "source": [
    "url = 'http://svcs.ebay.com/services/search/FindingService/v1?keywords=harry%20potter%20phoenix'"
   ]
  },
  {
   "cell_type": "code",
   "execution_count": 3,
   "metadata": {},
   "outputs": [],
   "source": [
    "s = requests.Session()"
   ]
  },
  {
   "cell_type": "code",
   "execution_count": 4,
   "metadata": {},
   "outputs": [
    {
     "data": {
      "text/plain": [
       "{'User-Agent': 'python-requests/2.18.4', 'Accept-Encoding': 'gzip, deflate', 'Accept': '*/*', 'Connection': 'keep-alive'}"
      ]
     },
     "execution_count": 4,
     "metadata": {},
     "output_type": "execute_result"
    }
   ],
   "source": [
    "# view headers in default form\n",
    "s.headers"
   ]
  },
  {
   "cell_type": "code",
   "execution_count": 5,
   "metadata": {},
   "outputs": [],
   "source": [
    "ebay_dict = {'X-EBAY-SOA-GLOBAL-ID': 'EBAY-US',\n",
    "            'X-EBAY-SOA-MESSAGE-ENCODING': 'UTF-8',\n",
    "            'X-EBAY-SOA-OPERATION-NAME': 'findItemsByKeywords',\n",
    "            'X-EBAY-SOA-SECURITY-APPNAME': 'GregoryG-ga-PRD-xxxxx',\n",
    "            'X-EBAY-SOA-RESPONSE-DATA-FORMAT': 'JSON'}"
   ]
  },
  {
   "cell_type": "code",
   "execution_count": 6,
   "metadata": {},
   "outputs": [],
   "source": [
    "s.headers.update(ebay_dict)"
   ]
  },
  {
   "cell_type": "code",
   "execution_count": 7,
   "metadata": {},
   "outputs": [
    {
     "data": {
      "text/plain": [
       "{'User-Agent': 'python-requests/2.18.4', 'Accept-Encoding': 'gzip, deflate', 'Accept': '*/*', 'Connection': 'keep-alive', 'X-EBAY-SOA-GLOBAL-ID': 'EBAY-US', 'X-EBAY-SOA-MESSAGE-ENCODING': 'UTF-8', 'X-EBAY-SOA-OPERATION-NAME': 'findItemsByKeywords', 'X-EBAY-SOA-SECURITY-APPNAME': 'GregoryG-ga-PRD-4134e8f72-bdbdb23b', 'X-EBAY-SOA-RESPONSE-DATA-FORMAT': 'JSON'}"
      ]
     },
     "execution_count": 7,
     "metadata": {},
     "output_type": "execute_result"
    }
   ],
   "source": [
    "# view headers after inserting the ebay creds\n",
    "s.headers"
   ]
  },
  {
   "cell_type": "code",
   "execution_count": 8,
   "metadata": {},
   "outputs": [],
   "source": [
    "# call dat sweet API\n",
    "response = json.loads(s.get(url).content)"
   ]
  },
  {
   "cell_type": "code",
   "execution_count": 9,
   "metadata": {},
   "outputs": [
    {
     "name": "stdout",
     "output_type": "stream",
     "text": [
      "4.99\n",
      "5.99\n",
      "5.99\n",
      "7.06\n",
      "12.95\n",
      "7.5\n",
      "49.99\n",
      "33.83\n",
      "9.82\n",
      "18.0\n",
      "13.95\n",
      "7.5\n",
      "7.99\n",
      "37.0\n",
      "5.88\n",
      "5.5\n",
      "2.0\n",
      "4.0\n",
      "4.85\n",
      "2.49\n",
      "7.98\n",
      "5.0\n",
      "8.94\n",
      "5.0\n",
      "6.99\n",
      "7.99\n",
      "6.0\n",
      "9.25\n",
      "2.25\n",
      "3.0\n",
      "3.9\n",
      "3.99\n",
      "5.0\n",
      "9.75\n",
      "9.25\n",
      "10.0\n",
      "14.99\n",
      "5.0\n",
      "5.99\n",
      "11.0\n",
      "2.99\n",
      "1.37\n",
      "10.01\n",
      "8.0\n",
      "0.99\n",
      "11.49\n",
      "6.18\n",
      "7.17\n",
      "41.67\n",
      "17.95\n",
      "0.99\n",
      "7.0\n",
      "18.1\n",
      "9.99\n",
      "4.95\n",
      "1.99\n",
      "3.95\n",
      "7.99\n",
      "0.99\n",
      "5.99\n",
      "9.99\n",
      "19.75\n",
      "29.99\n",
      "0.99\n",
      "8.09\n",
      "15.0\n",
      "4.0\n",
      "9.73\n",
      "7.25\n",
      "4.0\n",
      "100.0\n",
      "199.99\n",
      "21.99\n",
      "8.99\n",
      "160.0\n",
      "7.99\n",
      "7.5\n",
      "10.0\n",
      "15.0\n",
      "9.99\n",
      "9.99\n",
      "9.95\n",
      "5.99\n",
      "16.99\n",
      "199.99\n",
      "315.0\n",
      "18.95\n",
      "28.5\n",
      "17.99\n",
      "75.0\n",
      "45.0\n",
      "17.99\n",
      "16.92\n",
      "9.95\n",
      "9.99\n",
      "9.99\n",
      "9.95\n",
      "25.0\n",
      "7.99\n",
      "31.49\n"
     ]
    }
   ],
   "source": [
    "# it returns a dictionary / list cluster with 100 listings in em, lets see\n",
    "for item in response['findItemsByKeywordsResponse'][0]['searchResult'][0]['item']:\n",
    "    print(item['sellingStatus'][0]['currentPrice'][0]['__value__'])"
   ]
  },
  {
   "cell_type": "code",
   "execution_count": null,
   "metadata": {},
   "outputs": [],
   "source": []
  }
 ],
 "metadata": {
  "kernelspec": {
   "display_name": "Python 3",
   "language": "python",
   "name": "python3"
  },
  "language_info": {
   "codemirror_mode": {
    "name": "ipython",
    "version": 3
   },
   "file_extension": ".py",
   "mimetype": "text/x-python",
   "name": "python",
   "nbconvert_exporter": "python",
   "pygments_lexer": "ipython3",
   "version": "3.6.3"
  }
 },
 "nbformat": 4,
 "nbformat_minor": 2
}
